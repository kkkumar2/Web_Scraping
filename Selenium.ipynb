{
 "cells": [
  {
   "cell_type": "code",
   "execution_count": 79,
   "metadata": {},
   "outputs": [],
   "source": [
    "import os\n",
    "import wget\n",
    "from selenium import webdriver\n",
    "from selenium.webdriver.common.by import By\n",
    "from selenium.webdriver.common.keys import Keys\n",
    "from selenium.webdriver.support.wait import WebDriverWait\n",
    "from selenium.webdriver.support import expected_conditions as EC\n",
    "from bs4 import BeautifulSoup as bs"
   ]
  },
  {
   "cell_type": "code",
   "execution_count": 80,
   "metadata": {},
   "outputs": [],
   "source": [
    "path = r'D:\\Softwares\\chromedriver_win32\\chromedriver.exe'\n"
   ]
  },
  {
   "cell_type": "code",
   "execution_count": 81,
   "metadata": {},
   "outputs": [],
   "source": [
    "## driver.close() to close the current tab\n",
    "## driver.quit() to close all tabs and quit browser \n",
    "## Xpath=//tagname[@attribute='value'] In Selenium automation, if the elements are not found by the general locators like id, class, name, etc. then XPath is used to find an element on the web page.\n",
    "\n",
    "\n",
    "## waits - https://selenium-python.readthedocs.io/waits.html\n",
    "## convienece methods - https://selenium-python.readthedocs.io/api.html#module-selenium.webdriver.support.expected_conditions"
   ]
  },
  {
   "cell_type": "code",
   "execution_count": 82,
   "metadata": {},
   "outputs": [],
   "source": [
    "#search_box = WebDriverWait(driver, 10).until(EC.element_to_be_clickable((By.XPATH, \"//input[@placeholder='Search for products, brands and more']\")))\n"
   ]
  },
  {
   "cell_type": "code",
   "execution_count": 83,
   "metadata": {},
   "outputs": [],
   "source": [
    "myntra_seacrh = \"/html/body/div[1]/div/div/header/div[2]/div[3]/input\"\n",
    "\n",
    "link= \"/html/body/div[1]/div/div/header/div[2]/div[3]/a/span\""
   ]
  },
  {
   "cell_type": "code",
   "execution_count": 84,
   "metadata": {},
   "outputs": [
    {
     "name": "stderr",
     "output_type": "stream",
     "text": [
      "C:\\Users\\kmoha\\anaconda3\\lib\\site-packages\\ipykernel_launcher.py:1: DeprecationWarning: executable_path has been deprecated, please pass in a Service object\n",
      "  \"\"\"Entry point for launching an IPython kernel.\n"
     ]
    }
   ],
   "source": [
    "driver = webdriver.Chrome(path)\n",
    "\n",
    "#maximize browser\n",
    "driver.maximize_window()\n",
    "\n",
    "#go to myntra.com\n",
    "driver.get(\"https://www.myntra.com/?utm_source=perf_google_search_brand&utm_medium=perf_google_search_brand&utm_campaign=Search%20-%20Myntra%20Brand%20(India)&gclid=Cj0KCQjwvLOTBhCJARIsACVldV3JouObrvVj48bFQyhSXK_UNqioWGpz1Sx1XjHhg82zl9ZAEi-HI6caAvHCEALw_wcB\")\n",
    "\n",
    "#identify element by XPath\n",
    "search_box = WebDriverWait(driver, 10).until(EC.element_to_be_clickable((By.XPATH, myntra_seacrh)))\n",
    "search_box.clear()\n",
    "keyword = \"blazer\"  # Iterate id's over this\n",
    "search_box.send_keys(keyword)\n",
    "\n",
    "\n",
    "button = driver.find_element(By.XPATH,link)\n",
    "button.click()"
   ]
  },
  {
   "cell_type": "code",
   "execution_count": 85,
   "metadata": {},
   "outputs": [],
   "source": [
    "y = 1000\n",
    "# https://stackoverflow.com/questions/30942041/slow-scrolling-down-the-page-using-selenium\n",
    "for timer in range(0,7):\n",
    "     driver.execute_script(\"window.scrollTo(0, \"+str(y)+\")\")\n",
    "     y += 1000  \n",
    "#      print(timer)\n",
    "     time.sleep(2)\n",
    "ss = bs(driver.page_source,\"html.parser\")"
   ]
  },
  {
   "cell_type": "code",
   "execution_count": 86,
   "metadata": {},
   "outputs": [
    {
     "data": {
      "text/plain": [
       "41"
      ]
     },
     "execution_count": 86,
     "metadata": {},
     "output_type": "execute_result"
    }
   ],
   "source": [
    "re = ss.find_all(\"img\",{\"class\":\"img-responsive\"})\n",
    "len(re)\n"
   ]
  },
  {
   "cell_type": "code",
   "execution_count": 87,
   "metadata": {},
   "outputs": [
    {
     "data": {
      "text/plain": [
       "<img alt=\"House of Pataudi Men Black Self- Design Bandhgala Blazer\" class=\"img-responsive\" src=\"https://assets.myntassets.com/dpr_2,q_60,w_210,c_limit,fl_progressive/assets/images/17478176/2022/3/24/f1553ff8-e531-48c2-8884-f28b9d9847171648116118409-House-of-Pataudi-Men-Blazers-9891648116117703-1.jpg\" style=\"width: 100%; display: block;\" title=\"House of Pataudi Men Black Self- Design Bandhgala Blazer\"/>"
      ]
     },
     "execution_count": 87,
     "metadata": {},
     "output_type": "execute_result"
    }
   ],
   "source": [
    "re[0]"
   ]
  },
  {
   "cell_type": "code",
   "execution_count": 88,
   "metadata": {},
   "outputs": [
    {
     "name": "stdout",
     "output_type": "stream",
     "text": [
      "https://assets.myntassets.com/dpr_2,q_60,w_210,c_limit,fl_progressive/assets/images/17478176/2022/3/24/f1553ff8-e531-48c2-8884-f28b9d9847171648116118409-House-of-Pataudi-Men-Blazers-9891648116117703-1.jpg\n",
      "https://assets.myntassets.com/dpr_2,q_60,w_210,c_limit,fl_progressive/assets/images/14262554/2022/2/22/e4cd7a3f-98b2-416f-92a8-ef75ae6b54601645511718152-INVICTUS-Men-Navy-Blue-Solid-Velvet-Finish-Single-Breasted-S-1.jpg\n",
      "https://assets.myntassets.com/dpr_2,q_60,w_210,c_limit,fl_progressive/assets/images/10777806/2019/10/16/e5ac0f35-579c-4ce8-9e90-4288068e17221571215957443-MANQ-Men-Blazers-1871571215954534-1.jpg\n"
     ]
    }
   ],
   "source": [
    "for i in range(3):\n",
    "    print(re[i]['src'])"
   ]
  },
  {
   "cell_type": "code",
   "execution_count": 89,
   "metadata": {},
   "outputs": [],
   "source": [
    "list1 = []\n",
    "for i in range(len(re)):\n",
    "    list1.append(re[i]['src'])"
   ]
  },
  {
   "cell_type": "code",
   "execution_count": 90,
   "metadata": {},
   "outputs": [],
   "source": [
    "ratings = ss.find_all(\"div\",{\"class\":\"product-ratingsContainer\"})"
   ]
  },
  {
   "cell_type": "code",
   "execution_count": 91,
   "metadata": {},
   "outputs": [
    {
     "data": {
      "text/plain": [
       "27"
      ]
     },
     "execution_count": 91,
     "metadata": {},
     "output_type": "execute_result"
    }
   ],
   "source": [
    "len(ratings)"
   ]
  },
  {
   "cell_type": "code",
   "execution_count": 92,
   "metadata": {},
   "outputs": [
    {
     "data": {
      "text/plain": [
       "<div class=\"product-ratingsContainer\"><span>4.2</span><span class=\"myntraweb-sprite product-starIcon index-productRatingsExcellentIcon sprites-productRatingsExcellentIcon\"></span><div class=\"product-ratingsCount\"><div class=\"product-separator\">|</div><!-- react-text: 422 -->5<!-- /react-text --></div></div>"
      ]
     },
     "execution_count": 92,
     "metadata": {},
     "output_type": "execute_result"
    }
   ],
   "source": [
    "ratings[0]"
   ]
  },
  {
   "cell_type": "code",
   "execution_count": 93,
   "metadata": {},
   "outputs": [
    {
     "name": "stdout",
     "output_type": "stream",
     "text": [
      "['4.2', '5']\n",
      "['4.5', '71']\n",
      "['3.9', '95']\n",
      "['4.3', '168']\n",
      "['2.5', '6']\n",
      "['3.9', '127']\n",
      "['3.9', '1k']\n",
      "['4.5', '72']\n",
      "['4.5', '76']\n",
      "['3.4', '13']\n",
      "['4', '23']\n",
      "['4.6', '5']\n",
      "['3.7', '49']\n",
      "['2.1', '27']\n",
      "['3.8', '27']\n",
      "['3.5', '23']\n",
      "['3.8', '8']\n",
      "['4.5', '131']\n",
      "['3.8', '29']\n",
      "['4.6', '7']\n",
      "['3.8', '39']\n",
      "['3', '115']\n",
      "['4', '21']\n",
      "['2.5', '169']\n",
      "['3.6', '29']\n",
      "['3.8', '83']\n",
      "['4.2', '5']\n"
     ]
    }
   ],
   "source": [
    "for i in range(len(ratings)):\n",
    "    print(ratings[i].text.split(\"|\"))\n",
    "    #print(i.text.split(\"|\"))"
   ]
  },
  {
   "cell_type": "code",
   "execution_count": 94,
   "metadata": {},
   "outputs": [
    {
     "name": "stdout",
     "output_type": "stream",
     "text": [
      "4.2\n",
      "4.5\n",
      "3.9\n"
     ]
    }
   ],
   "source": [
    "for i in range(3):\n",
    "    print(ratings[i].text.split(\"|\")[0])"
   ]
  },
  {
   "cell_type": "code",
   "execution_count": 95,
   "metadata": {},
   "outputs": [],
   "source": [
    "list2 = []\n",
    "list3 = []\n",
    "for i in range(len(ratings)):\n",
    "    list2.append(ratings[i].text.split(\"|\")[0])\n",
    "    list3.append(ratings[i].text.split(\"|\")[1])"
   ]
  },
  {
   "cell_type": "code",
   "execution_count": 96,
   "metadata": {},
   "outputs": [
    {
     "data": {
      "text/plain": [
       "50"
      ]
     },
     "execution_count": 96,
     "metadata": {},
     "output_type": "execute_result"
    }
   ],
   "source": [
    "amount = ss.find_all(\"div\",{\"class\":\"product-price\"})\n",
    "len(amount)"
   ]
  },
  {
   "cell_type": "code",
   "execution_count": 97,
   "metadata": {},
   "outputs": [
    {
     "data": {
      "text/plain": [
       "<div class=\"product-price\"><span><!-- react-text: 444 -->Rs. <!-- /react-text --><!-- react-text: 445 -->7999<!-- /react-text --></span><!-- react-text: 446 --><!-- /react-text --></div>"
      ]
     },
     "execution_count": 97,
     "metadata": {},
     "output_type": "execute_result"
    }
   ],
   "source": [
    "amount[0]"
   ]
  },
  {
   "cell_type": "code",
   "execution_count": 98,
   "metadata": {},
   "outputs": [
    {
     "data": {
      "text/plain": [
       "'Rs. 7999'"
      ]
     },
     "execution_count": 98,
     "metadata": {},
     "output_type": "execute_result"
    }
   ],
   "source": [
    "amount[0].text"
   ]
  },
  {
   "cell_type": "code",
   "execution_count": 99,
   "metadata": {},
   "outputs": [
    {
     "name": "stdout",
     "output_type": "stream",
     "text": [
      "Rs. 7999\n",
      "Rs. 2799Rs. 6999(60% OFF)\n",
      "Rs. 1919Rs. 5999(68% OFF)\n"
     ]
    }
   ],
   "source": [
    "for i in range(3):\n",
    "    print(amount[i].text)"
   ]
  },
  {
   "cell_type": "code",
   "execution_count": 100,
   "metadata": {},
   "outputs": [],
   "source": [
    "list4 = []\n",
    "for i in range(len(amount)):\n",
    "    list4.append(amount[i].text)"
   ]
  },
  {
   "cell_type": "code",
   "execution_count": 101,
   "metadata": {},
   "outputs": [
    {
     "data": {
      "text/plain": [
       "50"
      ]
     },
     "execution_count": 101,
     "metadata": {},
     "output_type": "execute_result"
    }
   ],
   "source": [
    "link_to_img = ss.find_all(\"a\",{\"target\":\"_blank\"})\n",
    "len(link_to_img)"
   ]
  },
  {
   "cell_type": "code",
   "execution_count": 102,
   "metadata": {},
   "outputs": [
    {
     "data": {
      "text/plain": [
       "<a href=\"blazers/house-of-pataudi/house-of-pataudi-men-black-self--design-bandhgala-blazer/17478176/buy\" style=\"display: block;\" target=\"_blank\"><div class=\"product-imageSliderContainer\"><div class=\"product-sliderContainer\" style=\"display: block;\"><div style=\"background: rgb(229, 241, 255);\"><div style=\"height: 280px; width: 100%;\"><picture class=\"img-responsive\" style=\"width: 100%; height: 100%; display: block;\"><source srcset=\"\n",
       "    https://assets.myntassets.com/f_webp,dpr_1.0,q_60,w_210,c_limit,fl_progressive/assets/images/17478176/2022/3/24/f1553ff8-e531-48c2-8884-f28b9d9847171648116118409-House-of-Pataudi-Men-Blazers-9891648116117703-1.jpg ,\n",
       "    https://assets.myntassets.com/f_webp,dpr_1.5,q_60,w_210,c_limit,fl_progressive/assets/images/17478176/2022/3/24/f1553ff8-e531-48c2-8884-f28b9d9847171648116118409-House-of-Pataudi-Men-Blazers-9891648116117703-1.jpg 1.5x,\n",
       "    https://assets.myntassets.com/f_webp,dpr_1.8,q_60,w_210,c_limit,fl_progressive/assets/images/17478176/2022/3/24/f1553ff8-e531-48c2-8884-f28b9d9847171648116118409-House-of-Pataudi-Men-Blazers-9891648116117703-1.jpg 1.8x,\n",
       "    https://assets.myntassets.com/f_webp,dpr_2.0,q_60,w_210,c_limit,fl_progressive/assets/images/17478176/2022/3/24/f1553ff8-e531-48c2-8884-f28b9d9847171648116118409-House-of-Pataudi-Men-Blazers-9891648116117703-1.jpg 2.0x,\n",
       "    https://assets.myntassets.com/f_webp,dpr_2.2,q_60,w_210,c_limit,fl_progressive/assets/images/17478176/2022/3/24/f1553ff8-e531-48c2-8884-f28b9d9847171648116118409-House-of-Pataudi-Men-Blazers-9891648116117703-1.jpg 2.2x,\n",
       "    https://assets.myntassets.com/f_webp,dpr_2.4,q_60,w_210,c_limit,fl_progressive/assets/images/17478176/2022/3/24/f1553ff8-e531-48c2-8884-f28b9d9847171648116118409-House-of-Pataudi-Men-Blazers-9891648116117703-1.jpg 2.4x,\n",
       "    https://assets.myntassets.com/f_webp,dpr_2.6,q_60,w_210,c_limit,fl_progressive/assets/images/17478176/2022/3/24/f1553ff8-e531-48c2-8884-f28b9d9847171648116118409-House-of-Pataudi-Men-Blazers-9891648116117703-1.jpg 2.6x,\n",
       "    https://assets.myntassets.com/f_webp,dpr_2.8,q_60,w_210,c_limit,fl_progressive/assets/images/17478176/2022/3/24/f1553ff8-e531-48c2-8884-f28b9d9847171648116118409-House-of-Pataudi-Men-Blazers-9891648116117703-1.jpg 2.8x\" type=\"image/webp\"/><img alt=\"House of Pataudi Men Black Self- Design Bandhgala Blazer\" class=\"img-responsive\" src=\"https://assets.myntassets.com/dpr_2,q_60,w_210,c_limit,fl_progressive/assets/images/17478176/2022/3/24/f1553ff8-e531-48c2-8884-f28b9d9847171648116118409-House-of-Pataudi-Men-Blazers-9891648116117703-1.jpg\" style=\"width: 100%; display: block;\" title=\"House of Pataudi Men Black Self- Design Bandhgala Blazer\"/></picture></div></div><div class=\"xcelerator-plpXceleratorImageTag\">NEW SEASON</div></div></div><div class=\"product-productMetaInfo\"><h3 class=\"product-brand\">House of Pataudi</h3><h4 class=\"product-product\">MSn Self-Design Blazer</h4><h4 class=\"product-sizes\"><!-- react-text: 436 -->Sizes: <!-- /react-text --><span class=\"product-sizeNoInventoryPresent\">38, </span><span class=\"product-sizeNoInventoryPresent\">40, </span><span class=\"product-sizeNoInventoryPresent\">42, </span><span class=\"product-sizeNoInventoryPresent\">44, </span><span class=\"product-sizeNoInventoryPresent\">46</span></h4><div class=\"product-price\"><span><!-- react-text: 444 -->Rs. <!-- /react-text --><!-- react-text: 445 -->7999<!-- /react-text --></span><!-- react-text: 446 --><!-- /react-text --></div><div class=\"xcelerator-plpXceleratorInfoTag\">Only Few Left!</div></div></a>"
      ]
     },
     "execution_count": 102,
     "metadata": {},
     "output_type": "execute_result"
    }
   ],
   "source": [
    "link_to_img[0]"
   ]
  },
  {
   "cell_type": "code",
   "execution_count": 103,
   "metadata": {},
   "outputs": [
    {
     "data": {
      "text/plain": [
       "'blazers/house-of-pataudi/house-of-pataudi-men-black-self--design-bandhgala-blazer/17478176/buy'"
      ]
     },
     "execution_count": 103,
     "metadata": {},
     "output_type": "execute_result"
    }
   ],
   "source": [
    "link_to_img[0]['href']"
   ]
  },
  {
   "cell_type": "code",
   "execution_count": 104,
   "metadata": {},
   "outputs": [
    {
     "name": "stdout",
     "output_type": "stream",
     "text": [
      "blazers/house-of-pataudi/house-of-pataudi-men-black-self--design-bandhgala-blazer/17478176/buy\n",
      "blazers/invictus/invictus-men-navy-blue-solid-velvet-finish-single-breasted-slim-fit-blazer/14262554/buy\n",
      "blazers/manq/manq-men-navy-blue-slim-fit-solid-single-breasted-formal-blazer/10777806/buy\n"
     ]
    }
   ],
   "source": [
    "for i in range(3):\n",
    "    print(link_to_img[i]['href'])"
   ]
  },
  {
   "cell_type": "code",
   "execution_count": 105,
   "metadata": {},
   "outputs": [
    {
     "name": "stdout",
     "output_type": "stream",
     "text": [
      "https://www.myntra.com/blazers/house-of-pataudi/house-of-pataudi-men-black-self--design-bandhgala-blazer/17478176/buy\n",
      "https://www.myntra.com/blazers/invictus/invictus-men-navy-blue-solid-velvet-finish-single-breasted-slim-fit-blazer/14262554/buy\n",
      "https://www.myntra.com/blazers/manq/manq-men-navy-blue-slim-fit-solid-single-breasted-formal-blazer/10777806/buy\n"
     ]
    }
   ],
   "source": [
    "# https://www.myntra.com/blazers/house-of-pataudi/house-of-pataudi-men-black-self--design-bandhgala-blazer/17478176/buy\n",
    "\n",
    "ext = 'https://www.myntra.com/'\n",
    "\n",
    "for i in range(3):\n",
    "    flink = ext + link_to_img[i]['href']\n",
    "    print(flink)"
   ]
  },
  {
   "cell_type": "code",
   "execution_count": 106,
   "metadata": {},
   "outputs": [],
   "source": [
    "list5 = []\n",
    "ext = 'https://www.myntra.com/'\n",
    "\n",
    "for i in range(len(link_to_img)):\n",
    "    flink = ext + link_to_img[i]['href']\n",
    "    list5.append(flink)"
   ]
  },
  {
   "cell_type": "code",
   "execution_count": 107,
   "metadata": {},
   "outputs": [],
   "source": [
    "import pandas as pd\n",
    "import numpy as np"
   ]
  },
  {
   "cell_type": "code",
   "execution_count": 108,
   "metadata": {},
   "outputs": [
    {
     "name": "stdout",
     "output_type": "stream",
     "text": [
      "41 27 27 50 50\n"
     ]
    }
   ],
   "source": [
    "print(len(list1),len(list2),len(list3),len(list4),len(list5))"
   ]
  },
  {
   "cell_type": "code",
   "execution_count": null,
   "metadata": {},
   "outputs": [],
   "source": []
  }
 ],
 "metadata": {
  "kernelspec": {
   "display_name": "Python 3",
   "language": "python",
   "name": "python3"
  },
  "language_info": {
   "codemirror_mode": {
    "name": "ipython",
    "version": 3
   },
   "file_extension": ".py",
   "mimetype": "text/x-python",
   "name": "python",
   "nbconvert_exporter": "python",
   "pygments_lexer": "ipython3",
   "version": "3.7.6"
  }
 },
 "nbformat": 4,
 "nbformat_minor": 4
}
